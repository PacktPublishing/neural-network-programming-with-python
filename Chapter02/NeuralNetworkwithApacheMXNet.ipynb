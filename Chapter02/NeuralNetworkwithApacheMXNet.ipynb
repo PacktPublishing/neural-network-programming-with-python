{
  "nbformat": 4,
  "nbformat_minor": 0,
  "metadata": {
    "colab": {
      "name": "NeuralNetworkwithApacheMXNet.ipynb",
      "provenance": []
    },
    "kernelspec": {
      "name": "python3",
      "display_name": "Python 3"
    }
  },
  "cells": [
    {
      "cell_type": "markdown",
      "metadata": {
        "id": "-I0mblBx560d",
        "colab_type": "text"
      },
      "source": [
        "**Introduction to Apache MXNet - NDArray API, AutoGrad API, and Optimizer API**"
      ]
    },
    {
      "cell_type": "code",
      "metadata": {
        "id": "kKcg_SnV5aIc",
        "colab_type": "code",
        "colab": {
          "base_uri": "https://localhost:8080/",
          "height": 314
        },
        "outputId": "24437f6b-b5aa-4450-ba81-6d8137f5a397"
      },
      "source": [
        "!pip install mxnet"
      ],
      "execution_count": 2,
      "outputs": [
        {
          "output_type": "stream",
          "text": [
            "Collecting mxnet\n",
            "\u001b[?25l  Downloading https://files.pythonhosted.org/packages/81/f5/d79b5b40735086ff1100c680703e0f3efc830fa455e268e9e96f3c857e93/mxnet-1.6.0-py2.py3-none-any.whl (68.7MB)\n",
            "\u001b[K     |████████████████████████████████| 68.7MB 75kB/s \n",
            "\u001b[?25hCollecting graphviz<0.9.0,>=0.8.1\n",
            "  Downloading https://files.pythonhosted.org/packages/53/39/4ab213673844e0c004bed8a0781a0721a3f6bb23eb8854ee75c236428892/graphviz-0.8.4-py2.py3-none-any.whl\n",
            "Requirement already satisfied: numpy<2.0.0,>1.16.0 in /usr/local/lib/python3.6/dist-packages (from mxnet) (1.17.5)\n",
            "Requirement already satisfied: requests<3,>=2.20.0 in /usr/local/lib/python3.6/dist-packages (from mxnet) (2.21.0)\n",
            "Requirement already satisfied: certifi>=2017.4.17 in /usr/local/lib/python3.6/dist-packages (from requests<3,>=2.20.0->mxnet) (2019.11.28)\n",
            "Requirement already satisfied: chardet<3.1.0,>=3.0.2 in /usr/local/lib/python3.6/dist-packages (from requests<3,>=2.20.0->mxnet) (3.0.4)\n",
            "Requirement already satisfied: urllib3<1.25,>=1.21.1 in /usr/local/lib/python3.6/dist-packages (from requests<3,>=2.20.0->mxnet) (1.24.3)\n",
            "Requirement already satisfied: idna<2.9,>=2.5 in /usr/local/lib/python3.6/dist-packages (from requests<3,>=2.20.0->mxnet) (2.8)\n",
            "Installing collected packages: graphviz, mxnet\n",
            "  Found existing installation: graphviz 0.10.1\n",
            "    Uninstalling graphviz-0.10.1:\n",
            "      Successfully uninstalled graphviz-0.10.1\n",
            "Successfully installed graphviz-0.8.4 mxnet-1.6.0\n"
          ],
          "name": "stdout"
        }
      ]
    },
    {
      "cell_type": "code",
      "metadata": {
        "id": "_qMIGxw852sl",
        "colab_type": "code",
        "colab": {}
      },
      "source": [
        "from mxnet import ndarray as nda"
      ],
      "execution_count": 0,
      "outputs": []
    },
    {
      "cell_type": "code",
      "metadata": {
        "id": "bXlBMhc76IZb",
        "colab_type": "code",
        "colab": {
          "base_uri": "https://localhost:8080/",
          "height": 86
        },
        "outputId": "c6e82db6-bf36-45c9-893b-f2e5eb1cdecc"
      },
      "source": [
        "# Create CPU array\n",
        "arr_one = nda.ones((2, 2))\n",
        "print(arr_one)"
      ],
      "execution_count": 4,
      "outputs": [
        {
          "output_type": "stream",
          "text": [
            "\n",
            "[[1. 1.]\n",
            " [1. 1.]]\n",
            "<NDArray 2x2 @cpu(0)>\n"
          ],
          "name": "stdout"
        }
      ]
    },
    {
      "cell_type": "code",
      "metadata": {
        "id": "Etcxhlwo6K7N",
        "colab_type": "code",
        "colab": {
          "base_uri": "https://localhost:8080/",
          "height": 103
        },
        "outputId": "8894c301-13f2-442e-9907-87fcf5147b65"
      },
      "source": [
        "arr_x = nda.zeros((3, 5))\n",
        "print(arr_x)"
      ],
      "execution_count": 5,
      "outputs": [
        {
          "output_type": "stream",
          "text": [
            "\n",
            "[[0. 0. 0. 0. 0.]\n",
            " [0. 0. 0. 0. 0.]\n",
            " [0. 0. 0. 0. 0.]]\n",
            "<NDArray 3x5 @cpu(0)>\n"
          ],
          "name": "stdout"
        }
      ]
    },
    {
      "cell_type": "code",
      "metadata": {
        "id": "cUeDdf8d6Nmj",
        "colab_type": "code",
        "colab": {
          "base_uri": "https://localhost:8080/",
          "height": 86
        },
        "outputId": "7a8ce343-8df2-4d62-bd19-15400b8eae83"
      },
      "source": [
        "arr_y = nda.random_normal(0, 1, shape=(2,2))\n",
        "print(arr_y)"
      ],
      "execution_count": 6,
      "outputs": [
        {
          "output_type": "stream",
          "text": [
            "\n",
            "[[2.2122064 0.7740038]\n",
            " [1.0434403 1.1839255]]\n",
            "<NDArray 2x2 @cpu(0)>\n"
          ],
          "name": "stdout"
        }
      ]
    },
    {
      "cell_type": "code",
      "metadata": {
        "id": "__xYWO7k6Qfs",
        "colab_type": "code",
        "colab": {
          "base_uri": "https://localhost:8080/",
          "height": 34
        },
        "outputId": "be4cfb9b-b746-459d-cb19-9ad44381c3b2"
      },
      "source": [
        "arr_y.shape"
      ],
      "execution_count": 7,
      "outputs": [
        {
          "output_type": "execute_result",
          "data": {
            "text/plain": [
              "(2, 2)"
            ]
          },
          "metadata": {
            "tags": []
          },
          "execution_count": 7
        }
      ]
    },
    {
      "cell_type": "code",
      "metadata": {
        "id": "BmWd9tz76TLX",
        "colab_type": "code",
        "colab": {
          "base_uri": "https://localhost:8080/",
          "height": 34
        },
        "outputId": "bf9ec418-7257-4a96-fe4c-fdd115f58ad1"
      },
      "source": [
        "arr_y.size"
      ],
      "execution_count": 8,
      "outputs": [
        {
          "output_type": "execute_result",
          "data": {
            "text/plain": [
              "4"
            ]
          },
          "metadata": {
            "tags": []
          },
          "execution_count": 8
        }
      ]
    },
    {
      "cell_type": "code",
      "metadata": {
        "id": "NVQpZOeT6WB8",
        "colab_type": "code",
        "colab": {
          "base_uri": "https://localhost:8080/",
          "height": 86
        },
        "outputId": "10229308-2f88-4798-e0f1-a27a4b2fff73"
      },
      "source": [
        "arr_y[0:2,]"
      ],
      "execution_count": 9,
      "outputs": [
        {
          "output_type": "execute_result",
          "data": {
            "text/plain": [
              "\n",
              "[[2.2122064 0.7740038]\n",
              " [1.0434403 1.1839255]]\n",
              "<NDArray 2x2 @cpu(0)>"
            ]
          },
          "metadata": {
            "tags": []
          },
          "execution_count": 9
        }
      ]
    },
    {
      "cell_type": "code",
      "metadata": {
        "id": "ExNbBRG36ZB3",
        "colab_type": "code",
        "colab": {
          "base_uri": "https://localhost:8080/",
          "height": 69
        },
        "outputId": "455fb696-5438-473e-bf5b-5dfe469e4340"
      },
      "source": [
        "arr_y[1,:]"
      ],
      "execution_count": 10,
      "outputs": [
        {
          "output_type": "execute_result",
          "data": {
            "text/plain": [
              "\n",
              "[1.0434403 1.1839255]\n",
              "<NDArray 2 @cpu(0)>"
            ]
          },
          "metadata": {
            "tags": []
          },
          "execution_count": 10
        }
      ]
    },
    {
      "cell_type": "code",
      "metadata": {
        "id": "5RFYljWO6dDN",
        "colab_type": "code",
        "colab": {
          "base_uri": "https://localhost:8080/",
          "height": 69
        },
        "outputId": "8d823bb0-d1be-446f-8445-29d5d97b4b37"
      },
      "source": [
        "arr_y[0,1]"
      ],
      "execution_count": 11,
      "outputs": [
        {
          "output_type": "execute_result",
          "data": {
            "text/plain": [
              "\n",
              "[0.7740038]\n",
              "<NDArray 1 @cpu(0)>"
            ]
          },
          "metadata": {
            "tags": []
          },
          "execution_count": 11
        }
      ]
    },
    {
      "cell_type": "code",
      "metadata": {
        "id": "nTGaxdJE6f6b",
        "colab_type": "code",
        "colab": {
          "base_uri": "https://localhost:8080/",
          "height": 416
        },
        "outputId": "8b834506-ac87-43f1-fcbc-dbe52e8a6731"
      },
      "source": [
        "from mxnet import ndarray as nda\n",
        "arr_z=nda.random.randint(1,5,shape=(2,3))\n",
        "print(arr_z,end=\"\")\n",
        "arr_y=nda.random.randint(1,5,shape=(2,3))\n",
        "print(arr_y)\n",
        "print(\"\\n Transpose of arr_y:\",arr_y.T)\n",
        "print(\"\\n Addition of arr_y and arr_z:\",arr_y+arr_z)\n",
        "print(\"\\n Multiplication of arr_y and arr_z:\",arr_y*arr_z)"
      ],
      "execution_count": 12,
      "outputs": [
        {
          "output_type": "stream",
          "text": [
            "\n",
            "[[4 3 4]\n",
            " [1 1 2]]\n",
            "<NDArray 2x3 @cpu(0)>\n",
            "[[4 3 2]\n",
            " [2 1 1]]\n",
            "<NDArray 2x3 @cpu(0)>\n",
            "\n",
            " Transpose of arr_y: \n",
            "[[4 2]\n",
            " [3 1]\n",
            " [2 1]]\n",
            "<NDArray 3x2 @cpu(0)>\n",
            "\n",
            " Addition of arr_y and arr_z: \n",
            "[[8 6 6]\n",
            " [3 2 3]]\n",
            "<NDArray 2x3 @cpu(0)>\n",
            "\n",
            " Multiplication of arr_y and arr_z: \n",
            "[[16  9  8]\n",
            " [ 2  1  2]]\n",
            "<NDArray 2x3 @cpu(0)>\n"
          ],
          "name": "stdout"
        }
      ]
    },
    {
      "cell_type": "code",
      "metadata": {
        "id": "sbdc1h_i6k9j",
        "colab_type": "code",
        "colab": {
          "base_uri": "https://localhost:8080/",
          "height": 69
        },
        "outputId": "89a222a3-52f4-49d1-ed4d-0dbe794ca065"
      },
      "source": [
        "arr_p = arr_z.asnumpy()\n",
        "print(arr_p)\n",
        "type(arr_p)"
      ],
      "execution_count": 13,
      "outputs": [
        {
          "output_type": "stream",
          "text": [
            "[[4 3 4]\n",
            " [1 1 2]]\n"
          ],
          "name": "stdout"
        },
        {
          "output_type": "execute_result",
          "data": {
            "text/plain": [
              "numpy.ndarray"
            ]
          },
          "metadata": {
            "tags": []
          },
          "execution_count": 13
        }
      ]
    },
    {
      "cell_type": "code",
      "metadata": {
        "id": "nNGmXsiG6o6V",
        "colab_type": "code",
        "colab": {
          "base_uri": "https://localhost:8080/",
          "height": 86
        },
        "outputId": "be97e391-4a9b-4257-d348-f2a5eeace604"
      },
      "source": [
        "arr_k = nda.array(arr_p)\n",
        "print(arr_k)"
      ],
      "execution_count": 14,
      "outputs": [
        {
          "output_type": "stream",
          "text": [
            "\n",
            "[[4. 3. 4.]\n",
            " [1. 1. 2.]]\n",
            "<NDArray 2x3 @cpu(0)>\n"
          ],
          "name": "stdout"
        }
      ]
    },
    {
      "cell_type": "code",
      "metadata": {
        "id": "DC7xtsAH6xq8",
        "colab_type": "code",
        "colab": {
          "base_uri": "https://localhost:8080/",
          "height": 69
        },
        "outputId": "d7b6ebeb-2336-4f5e-f0e8-a4242b8827a2"
      },
      "source": [
        "import mxnet as mx\n",
        "from mxnet import ndarray as nda\n",
        "from mxnet import autograd\n",
        "var = nda.array([4])\n",
        "var.attach_grad()\n",
        "with autograd.record():\n",
        " res=(2*(var**3))+(4*var)\n",
        "res.backward()\n",
        "print(var.grad)"
      ],
      "execution_count": 15,
      "outputs": [
        {
          "output_type": "stream",
          "text": [
            "\n",
            "[100.]\n",
            "<NDArray 1 @cpu(0)>\n"
          ],
          "name": "stdout"
        }
      ]
    },
    {
      "cell_type": "code",
      "metadata": {
        "id": "dQjaOzm1602m",
        "colab_type": "code",
        "colab": {
          "base_uri": "https://localhost:8080/",
          "height": 69
        },
        "outputId": "5cbb8ed2-40a3-4795-e1af-8a5156f46bb1"
      },
      "source": [
        "from mxnet import gluon as gl\n",
        "from mxnet import optimizer\n",
        "neu_network=gl.nn.Dense(1)\n",
        "neu_network.initialize()\n",
        "print(neu_network)\n",
        "optim_nn=optimizer.SGD(learning_rate=0.01)\n",
        "print(optim_nn)\n",
        "nn_trainer=gl.Trainer(neu_network.collect_params(),optimizer=optim_nn)\n",
        "print(nn_trainer)"
      ],
      "execution_count": 17,
      "outputs": [
        {
          "output_type": "stream",
          "text": [
            "Dense(None -> 1, linear)\n",
            "<mxnet.optimizer.optimizer.SGD object at 0x7efdfe8f9898>\n",
            "<mxnet.gluon.trainer.Trainer object at 0x7efdd8a78be0>\n"
          ],
          "name": "stdout"
        }
      ]
    },
    {
      "cell_type": "markdown",
      "metadata": {
        "id": "6cvE7gfz69Q7",
        "colab_type": "text"
      },
      "source": [
        "**Practical Implementation of Neural Network with Apache MXNet**"
      ]
    },
    {
      "cell_type": "code",
      "metadata": {
        "id": "OKb-DbU066vK",
        "colab_type": "code",
        "colab": {
          "base_uri": "https://localhost:8080/",
          "height": 34
        },
        "outputId": "149bacca-6974-45d2-d797-7dd89daf9aef"
      },
      "source": [
        "from mxnet import nd, autograd\n",
        "import pandas as pd\n",
        "import matplotlib.pyplot as plt\n",
        "from sklearn.model_selection import train_test_split\n",
        "iris_data=\"https://raw.githubusercontent.com/uiuc-cse/data-fa14/gh-pages/data/iris.csv\"\n",
        "df = pd.read_csv(iris_data, delimiter=',', header = 0)\n",
        "print(df.shape)"
      ],
      "execution_count": 20,
      "outputs": [
        {
          "output_type": "stream",
          "text": [
            "(150, 5)\n"
          ],
          "name": "stdout"
        }
      ]
    },
    {
      "cell_type": "code",
      "metadata": {
        "id": "p-u6vA9D64u6",
        "colab_type": "code",
        "colab": {
          "base_uri": "https://localhost:8080/",
          "height": 207
        },
        "outputId": "d21dd1ce-9305-4191-e933-4f1fc04b97e9"
      },
      "source": [
        "print(df.head(10))"
      ],
      "execution_count": 21,
      "outputs": [
        {
          "output_type": "stream",
          "text": [
            "   sepal_length  sepal_width  petal_length  petal_width species\n",
            "0           5.1          3.5           1.4          0.2  setosa\n",
            "1           4.9          3.0           1.4          0.2  setosa\n",
            "2           4.7          3.2           1.3          0.2  setosa\n",
            "3           4.6          3.1           1.5          0.2  setosa\n",
            "4           5.0          3.6           1.4          0.2  setosa\n",
            "5           5.4          3.9           1.7          0.4  setosa\n",
            "6           4.6          3.4           1.4          0.3  setosa\n",
            "7           5.0          3.4           1.5          0.2  setosa\n",
            "8           4.4          2.9           1.4          0.2  setosa\n",
            "9           4.9          3.1           1.5          0.1  setosa\n"
          ],
          "name": "stdout"
        }
      ]
    },
    {
      "cell_type": "code",
      "metadata": {
        "id": "xK4WYO-H7xJf",
        "colab_type": "code",
        "colab": {
          "base_uri": "https://localhost:8080/",
          "height": 242
        },
        "outputId": "903f8df0-c6ec-4f41-be75-2fdd6d07f2d0"
      },
      "source": [
        "new_df=pd.get_dummies(df)\n",
        "print(new_df.head(10))"
      ],
      "execution_count": 22,
      "outputs": [
        {
          "output_type": "stream",
          "text": [
            "   sepal_length  sepal_width  ...  species_versicolor  species_virginica\n",
            "0           5.1          3.5  ...                   0                  0\n",
            "1           4.9          3.0  ...                   0                  0\n",
            "2           4.7          3.2  ...                   0                  0\n",
            "3           4.6          3.1  ...                   0                  0\n",
            "4           5.0          3.6  ...                   0                  0\n",
            "5           5.4          3.9  ...                   0                  0\n",
            "6           4.6          3.4  ...                   0                  0\n",
            "7           5.0          3.4  ...                   0                  0\n",
            "8           4.4          2.9  ...                   0                  0\n",
            "9           4.9          3.1  ...                   0                  0\n",
            "\n",
            "[10 rows x 7 columns]\n"
          ],
          "name": "stdout"
        }
      ]
    },
    {
      "cell_type": "code",
      "metadata": {
        "id": "DWhCv_Te70c-",
        "colab_type": "code",
        "colab": {
          "base_uri": "https://localhost:8080/",
          "height": 51
        },
        "outputId": "a921f070-7cb5-4486-991c-ec062fb1493f"
      },
      "source": [
        "train_data, test_data = train_test_split( new_df,\n",
        "test_size=0.3, random_state=1)\n",
        "print(train_data.shape)\n",
        "print(test_data.shape)"
      ],
      "execution_count": 23,
      "outputs": [
        {
          "output_type": "stream",
          "text": [
            "(105, 7)\n",
            "(45, 7)\n"
          ],
          "name": "stdout"
        }
      ]
    },
    {
      "cell_type": "code",
      "metadata": {
        "id": "KXlKA5rf74A0",
        "colab_type": "code",
        "colab": {}
      },
      "source": [
        "features =['sepal_width','petal_length','petal_width','species_setosa','species_versicolor','species_virginica']\n",
        "y_train = nd.array(train_data['sepal_length'])\n",
        "X_train = nd.array(train_data[features])\n",
        "y_test = nd.array(test_data['sepal_length'])\n",
        "X_test = nd.array(test_data[features])\n"
      ],
      "execution_count": 0,
      "outputs": []
    },
    {
      "cell_type": "code",
      "metadata": {
        "id": "pb0nXcMH79oj",
        "colab_type": "code",
        "colab": {}
      },
      "source": [
        "learn_rate = 0.02\n",
        "epochs = 200\n",
        "X_features = nd.array(X_train)\n",
        "target_y = nd.array(y_train)\n",
        "columns = X_features.shape[1]\n",
        "weights = nd.random.normal(shape = [columns, 1])\n",
        "bias = nd.random.normal(shape = 1)\n",
        "paras = [weights,bias]\n",
        "for x in paras: x.attach_grad()\n",
        "def gradient_calc(paras,lr):\n",
        "    for x in paras:\n",
        "      x[:] = x - x.grad * lr\n",
        "loss_data = []"
      ],
      "execution_count": 0,
      "outputs": []
    },
    {
      "cell_type": "code",
      "metadata": {
        "id": "uMNUjzkk8Im7",
        "colab_type": "code",
        "colab": {
          "base_uri": "https://localhost:8080/",
          "height": 604
        },
        "outputId": "27ebd5cb-c857-4e47-ae5b-e24ca460af7e"
      },
      "source": [
        "for epoch in range(epochs):\n",
        "  with autograd.record():\n",
        "    loss=nd.mean((nd.dot(X_train, weights) + bias -y_train)**2)\n",
        "loss.backward()\n",
        "gradient_calc(paras, learn_rate)\n",
        "print (\"Epoch %s, Mean loss: %s\" % (epoch,loss))\n",
        "loss_data.append(loss.asscalar())\n",
        "plt.figure(num=None,figsize=(10,8))\n",
        "plt.plot(loss_data)\n",
        "plt.xlabel('Epochs',fontsize=12)\n",
        "plt.ylabel('Mean Loss',fontsize=12)\n",
        "MSE = nd.mean(((nd.dot(X_test, weights) + bias) - y_test)**2)\n",
        "print (\"Mean Squared Error on Test Set: %s\" % (MSE))"
      ],
      "execution_count": 35,
      "outputs": [
        {
          "output_type": "stream",
          "text": [
            "Epoch 199, Mean loss: \n",
            "[1.2463726]\n",
            "<NDArray 1 @cpu(0)>\n",
            "Mean Squared Error on Test Set: \n",
            "[0.9783383]\n",
            "<NDArray 1 @cpu(0)>\n"
          ],
          "name": "stdout"
        },
        {
          "output_type": "display_data",
          "data": {
            "image/png": "[encoded data removed]",
            "text/plain": [
              "<Figure size 720x576 with 1 Axes>"
            ]
          },
          "metadata": {
            "tags": []
          }
        }
      ]
    },
    {
      "cell_type": "code",
      "metadata": {
        "id": "tQTFMk3z8Tjk",
        "colab_type": "code",
        "colab": {}
      },
      "source": [
        ""
      ],
      "execution_count": 0,
      "outputs": []
    },
    {
      "cell_type": "code",
      "metadata": {
        "id": "E1uHJGmk8O37",
        "colab_type": "code",
        "colab": {}
      },
      "source": [
        ""
      ],
      "execution_count": 0,
      "outputs": []
    }
  ]
}