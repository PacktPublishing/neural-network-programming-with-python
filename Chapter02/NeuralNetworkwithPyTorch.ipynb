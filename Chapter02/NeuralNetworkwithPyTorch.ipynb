{
  "nbformat": 4,
  "nbformat_minor": 0,
  "metadata": {
    "colab": {
      "name": "NeuralNetworkwithPyTorch.ipynb",
      "provenance": [],
      "collapsed_sections": []
    },
    "kernelspec": {
      "name": "python3",
      "display_name": "Python 3"
    },
    "accelerator": "GPU"
  },
  "cells": [
    {
      "cell_type": "markdown",
      "metadata": {
        "id": "_MfVdHdj-C-g",
        "colab_type": "text"
      },
      "source": [
        "**Introduction to PyTorch - Tensors, Autograd Module, Optim Module**"
      ]
    },
    {
      "cell_type": "code",
      "metadata": {
        "id": "q0Gux9uH94vx",
        "colab_type": "code",
        "colab": {
          "base_uri": "https://localhost:8080/",
          "height": 34
        },
        "outputId": "e39eb6f5-f078-4833-a2bb-50255a88f000"
      },
      "source": [
        "!pip install torch"
      ],
      "execution_count": 1,
      "outputs": [
        {
          "output_type": "stream",
          "text": [
            "Requirement already satisfied: torch in /usr/local/lib/python3.6/dist-packages (1.4.0)\n"
          ],
          "name": "stdout"
        }
      ]
    },
    {
      "cell_type": "code",
      "metadata": {
        "id": "2l2egKSt-IwZ",
        "colab_type": "code",
        "colab": {}
      },
      "source": [
        "import torch as pyt\n",
        "import numpy as np\n",
        "import matplotlib.pyplot as plt"
      ],
      "execution_count": 0,
      "outputs": []
    },
    {
      "cell_type": "code",
      "metadata": {
        "id": "2iHP9Ztc-Nbo",
        "colab_type": "code",
        "colab": {
          "base_uri": "https://localhost:8080/",
          "height": 69
        },
        "outputId": "37ccad12-4d08-470a-f3db-c914e6daa6cd"
      },
      "source": [
        "# a tensor of 3 rows and 2 columns with ones\n",
        "ten_x = pyt.ones(3,2)\n",
        "print(ten_x)"
      ],
      "execution_count": 3,
      "outputs": [
        {
          "output_type": "stream",
          "text": [
            "tensor([[1., 1.],\n",
            "        [1., 1.],\n",
            "        [1., 1.]])\n"
          ],
          "name": "stdout"
        }
      ]
    },
    {
      "cell_type": "code",
      "metadata": {
        "id": "NTDQaX9M-Qo4",
        "colab_type": "code",
        "colab": {
          "base_uri": "https://localhost:8080/",
          "height": 69
        },
        "outputId": "03cec0f4-4b2a-4945-ecd3-cb5c86aaaf3e"
      },
      "source": [
        "# a tensor of 3 rows and 2 columns with zeroes\n",
        "ten_y = pyt.zeros(3,2)\n",
        "print(ten_y)\n"
      ],
      "execution_count": 4,
      "outputs": [
        {
          "output_type": "stream",
          "text": [
            "tensor([[0., 0.],\n",
            "        [0., 0.],\n",
            "        [0., 0.]])\n"
          ],
          "name": "stdout"
        }
      ]
    },
    {
      "cell_type": "code",
      "metadata": {
        "id": "sSQ7OO4Z-U3p",
        "colab_type": "code",
        "colab": {
          "base_uri": "https://localhost:8080/",
          "height": 69
        },
        "outputId": "05d2e806-b4d3-4b50-eb6a-129069f0cee1"
      },
      "source": [
        "# a tensor of 3 rows and 2 columns with random values\n",
        "ten_z = pyt.rand(3, 2)\n",
        "print(ten_z)"
      ],
      "execution_count": 5,
      "outputs": [
        {
          "output_type": "stream",
          "text": [
            "tensor([[0.2583, 0.5984],\n",
            "        [0.9675, 0.0051],\n",
            "        [0.5267, 0.2820]])\n"
          ],
          "name": "stdout"
        }
      ]
    },
    {
      "cell_type": "code",
      "metadata": {
        "id": "ujRSNXOU-XRI",
        "colab_type": "code",
        "colab": {
          "base_uri": "https://localhost:8080/",
          "height": 138
        },
        "outputId": "62ce1ea7-f929-4033-be42-4a4028a76580"
      },
      "source": [
        "#Tensor Operations\n",
        "ten_p = pyt.rand(3, 2)\n",
        "print(ten_p)\n",
        "#Tensor Slicing\n",
        "print(ten_p[0,:])\n",
        "print(ten_p[2,0:1])\n",
        "print(ten_p[0:2,0:2])\n"
      ],
      "execution_count": 6,
      "outputs": [
        {
          "output_type": "stream",
          "text": [
            "tensor([[0.4970, 0.3589],\n",
            "        [0.1551, 0.8545],\n",
            "        [0.6493, 0.3422]])\n",
            "tensor([0.4970, 0.3589])\n",
            "tensor([0.6493])\n",
            "tensor([[0.4970, 0.3589],\n",
            "        [0.1551, 0.8545]])\n"
          ],
          "name": "stdout"
        }
      ]
    },
    {
      "cell_type": "code",
      "metadata": {
        "id": "9z1QSJpC-Z9c",
        "colab_type": "code",
        "colab": {
          "base_uri": "https://localhost:8080/",
          "height": 225
        },
        "outputId": "7495cad8-fe4e-48a5-f4ad-d1590669670e"
      },
      "source": [
        "#Create two tensors\n",
        "x = pyt.ones([2, 2])\n",
        "y = pyt.ones([2, 2])\n",
        "print(x,\"\\n\",y)\n",
        "#adding two tensors\n",
        "m = x + y #method 1\n",
        "n = pyt.add(x,y) #method 2\n",
        "print(m,\"\\n\",n)\n",
        "\n",
        "#subtracting two tensors\n",
        "m = x - y #method 1\n",
        "n=pyt.sub(x,y) #method 2\n",
        "print(m,\"\\n\",n)"
      ],
      "execution_count": 7,
      "outputs": [
        {
          "output_type": "stream",
          "text": [
            "tensor([[1., 1.],\n",
            "        [1., 1.]]) \n",
            " tensor([[1., 1.],\n",
            "        [1., 1.]])\n",
            "tensor([[2., 2.],\n",
            "        [2., 2.]]) \n",
            " tensor([[2., 2.],\n",
            "        [2., 2.]])\n",
            "tensor([[0., 0.],\n",
            "        [0., 0.]]) \n",
            " tensor([[0., 0.],\n",
            "        [0., 0.]])\n"
          ],
          "name": "stdout"
        }
      ]
    },
    {
      "cell_type": "code",
      "metadata": {
        "id": "mBS5xrgI-ilI",
        "colab_type": "code",
        "colab": {
          "base_uri": "https://localhost:8080/",
          "height": 34
        },
        "outputId": "cf39cde1-6048-4abc-d6dc-2c3b3e51fcf6"
      },
      "source": [
        "#check CUDA support\n",
        "print(pyt.cuda.device_count())"
      ],
      "execution_count": 8,
      "outputs": [
        {
          "output_type": "stream",
          "text": [
            "1\n"
          ],
          "name": "stdout"
        }
      ]
    },
    {
      "cell_type": "code",
      "metadata": {
        "id": "mh03RceB-krZ",
        "colab_type": "code",
        "colab": {
          "base_uri": "https://localhost:8080/",
          "height": 34
        },
        "outputId": "3adf5b32-067d-4f17-ee36-c091dc1f6ac1"
      },
      "source": [
        "# PyTorch Version\n",
        "print(pyt.__version__)"
      ],
      "execution_count": 9,
      "outputs": [
        {
          "output_type": "stream",
          "text": [
            "1.4.0\n"
          ],
          "name": "stdout"
        }
      ]
    },
    {
      "cell_type": "code",
      "metadata": {
        "id": "b353u-cl-4Hx",
        "colab_type": "code",
        "colab": {
          "base_uri": "https://localhost:8080/",
          "height": 34
        },
        "outputId": "2fe49c4a-4ab2-419a-fbaf-ed4cf7104937"
      },
      "source": [
        "#GPU Hardware Check\n",
        "print(pyt.cuda.get_device_name(0))"
      ],
      "execution_count": 10,
      "outputs": [
        {
          "output_type": "stream",
          "text": [
            "Tesla P100-PCIE-16GB\n"
          ],
          "name": "stdout"
        }
      ]
    },
    {
      "cell_type": "code",
      "metadata": {
        "id": "5oxMOwE5-6e6",
        "colab_type": "code",
        "colab": {
          "base_uri": "https://localhost:8080/",
          "height": 51
        },
        "outputId": "0b3ca78c-65b1-451a-edc1-98e4db166e89"
      },
      "source": [
        "cuda_dev = pyt.device('cuda:0')\n",
        "#Performing the addition on GPU\n",
        "ten_a = pyt.ones(2, 2, device=cuda_dev)\n",
        "#creating a tensor 'ten_a' on GPU\n",
        "ten_b = pyt.ones(2, 2, device=cuda_dev)\n",
        "#creating a tensor 'ten_b' on GPU\n",
        "ten_c = ten_a + ten_b\n",
        "print(ten_c)"
      ],
      "execution_count": 11,
      "outputs": [
        {
          "output_type": "stream",
          "text": [
            "tensor([[2., 2.],\n",
            "        [2., 2.]], device='cuda:0')\n"
          ],
          "name": "stdout"
        }
      ]
    },
    {
      "cell_type": "code",
      "metadata": {
        "id": "ILfLMHGe-9mQ",
        "colab_type": "code",
        "colab": {
          "base_uri": "https://localhost:8080/",
          "height": 51
        },
        "outputId": "9ed7cb73-6ce1-4b6e-f4a4-d15f69d81ffb"
      },
      "source": [
        "#moving the result to cpu\n",
        "ten_c = ten_c.cpu()\n",
        "print(ten_c)"
      ],
      "execution_count": 12,
      "outputs": [
        {
          "output_type": "stream",
          "text": [
            "tensor([[2., 2.],\n",
            "        [2., 2.]])\n"
          ],
          "name": "stdout"
        }
      ]
    },
    {
      "cell_type": "code",
      "metadata": {
        "id": "w9u-YMPx_AfI",
        "colab_type": "code",
        "colab": {
          "base_uri": "https://localhost:8080/",
          "height": 51
        },
        "outputId": "913ad4aa-21ce-4496-8722-9adfc91b488d"
      },
      "source": [
        "import torch as pyt\n",
        "#create a tensor with requires_grad = True\n",
        "ten_x = pyt.ones([2,2], requires_grad = True)\n",
        "print(ten_x)"
      ],
      "execution_count": 13,
      "outputs": [
        {
          "output_type": "stream",
          "text": [
            "tensor([[1., 1.],\n",
            "        [1., 1.]], requires_grad=True)\n"
          ],
          "name": "stdout"
        }
      ]
    },
    {
      "cell_type": "code",
      "metadata": {
        "id": "16Me8I4K_Exa",
        "colab_type": "code",
        "colab": {
          "base_uri": "https://localhost:8080/",
          "height": 103
        },
        "outputId": "c076e1f6-5ac7-4886-eafb-d6df2f85e0a2"
      },
      "source": [
        "ten_y = ten_x + 3 #tensor addition\n",
        "print(ten_y)\n",
        "ten_z = ten_y*ten_y + 3\n",
        "print(ten_z)\n",
        "ten_f= pyt.sum(ten_z) #adding all the values in z\n",
        "print(ten_f)"
      ],
      "execution_count": 14,
      "outputs": [
        {
          "output_type": "stream",
          "text": [
            "tensor([[4., 4.],\n",
            "        [4., 4.]], grad_fn=<AddBackward0>)\n",
            "tensor([[19., 19.],\n",
            "        [19., 19.]], grad_fn=<AddBackward0>)\n",
            "tensor(76., grad_fn=<SumBackward0>)\n"
          ],
          "name": "stdout"
        }
      ]
    },
    {
      "cell_type": "code",
      "metadata": {
        "id": "_lGLtyB6_H64",
        "colab_type": "code",
        "colab": {
          "base_uri": "https://localhost:8080/",
          "height": 51
        },
        "outputId": "56ecab03-ffbc-4d09-c9f4-e0b9fc65474e"
      },
      "source": [
        "ten_f.backward()\n",
        "print(ten_x.grad)"
      ],
      "execution_count": 15,
      "outputs": [
        {
          "output_type": "stream",
          "text": [
            "tensor([[8., 8.],\n",
            "        [8., 8.]])\n"
          ],
          "name": "stdout"
        }
      ]
    },
    {
      "cell_type": "code",
      "metadata": {
        "id": "qtEJrUH1_KY_",
        "colab_type": "code",
        "colab": {
          "base_uri": "https://localhost:8080/",
          "height": 34
        },
        "outputId": "9f516c16-2228-4353-8f91-1bb3d7fe27e7"
      },
      "source": [
        "'''from torch import optim as op\n",
        "#define adam optimizer\n",
        "adam_opt=op.Adam(model.parameters(),lr=0.01)'''"
      ],
      "execution_count": 17,
      "outputs": [
        {
          "output_type": "execute_result",
          "data": {
            "text/plain": [
              "'from torch import optim as op\\n#define adam optimizer\\nadam_opt=op.Adam(model.parameters(),lr=0.01)'"
            ]
          },
          "metadata": {
            "tags": []
          },
          "execution_count": 17
        }
      ]
    },
    {
      "cell_type": "markdown",
      "metadata": {
        "id": "92R9WCxtAFpB",
        "colab_type": "text"
      },
      "source": [
        "**Practical Implementation of Artificial Neural Network with PyTorch**"
      ]
    },
    {
      "cell_type": "code",
      "metadata": {
        "id": "-j5zD-18ACLS",
        "colab_type": "code",
        "colab": {}
      },
      "source": [
        "import torch as pyt\n",
        "from torch.autograd import Variable\n",
        "import matplotlib.pyplot as plt\n",
        "%matplotlib inline\n",
        "import numpy as np\n",
        "ten_x=Variable(pyt.Tensor([[1.0], [2.0],[3.0],[5.0],[7.0]]))\n",
        "ten_y=Variable(pyt.Tensor([[2.0], [4.0], [6.0],[9.8],[15.0]]))\n",
        "class NNModel(pyt.nn.Module):\n",
        "      def __init__(self):\n",
        "          super(NNModel, self).__init__()\n",
        "          self.linear = pyt.nn.Linear(1, 1)\n",
        "      def forward(self, x):\n",
        "          y_pred = self.linear(x)\n",
        "          return y_pred\n",
        "our_model = NNModel()\n",
        "criterion = pyt.nn.MSELoss()\n",
        "optimizer = pyt.optim.SGD(our_model.parameters(), lr = 0.0001)\n",
        "loss_values = []"
      ],
      "execution_count": 0,
      "outputs": []
    },
    {
      "cell_type": "code",
      "metadata": {
        "id": "lzkqh4xMAExA",
        "colab_type": "code",
        "colab": {
          "base_uri": "https://localhost:8080/",
          "height": 1000
        },
        "outputId": "a923adc5-d2d5-4ade-8f5d-1bdcd035e8c5"
      },
      "source": [
        "for epoch in range(600):\n",
        "    pred_y = our_model(ten_x) \n",
        "    loss = criterion(pred_y, ten_y)\n",
        "    optimizer.zero_grad()\n",
        "    loss.backward()\n",
        "    optimizer.step()\n",
        "    print('epoch {}, loss {}'.format(epoch, loss.item()))\n",
        "    loss_values.append(loss.item())\n",
        "plt.rcParams[\"figure.figsize\"] = (8,6)\n",
        "plt.plot(np.array(loss_values), 'r')\n",
        "plt.xlabel(\"NO_OF_EPOCHS\")\n",
        "plt.ylabel(\"LOSS\")\n",
        "new_var = Variable(pyt.Tensor([[4.0]]))\n",
        "pred_y = our_model(new_var)\n",
        "print(\"Prediction(after training)\", 4, our_model(new_var).data[0][0])"
      ],
      "execution_count": 19,
      "outputs": [
        {
          "output_type": "stream",
          "text": [
            "epoch 0, loss 127.26729583740234\n",
            "epoch 1, loss 126.33573913574219\n",
            "epoch 2, loss 125.4110107421875\n",
            "epoch 3, loss 124.4930419921875\n",
            "epoch 4, loss 123.5818099975586\n",
            "epoch 5, loss 122.67724609375\n",
            "epoch 6, loss 121.77931213378906\n",
            "epoch 7, loss 120.88795471191406\n",
            "epoch 8, loss 120.00312805175781\n",
            "epoch 9, loss 119.1247787475586\n",
            "epoch 10, loss 118.25285339355469\n",
            "epoch 11, loss 117.3873519897461\n",
            "epoch 12, loss 116.52816009521484\n",
            "epoch 13, loss 115.6752700805664\n",
            "epoch 14, loss 114.82861328125\n",
            "epoch 15, loss 113.9881820678711\n",
            "epoch 16, loss 113.1539077758789\n",
            "epoch 17, loss 112.32572174072266\n",
            "epoch 18, loss 111.50362396240234\n",
            "epoch 19, loss 110.68753814697266\n",
            "epoch 20, loss 109.87742614746094\n",
            "epoch 21, loss 109.0732650756836\n",
            "epoch 22, loss 108.27497863769531\n",
            "epoch 23, loss 107.4825439453125\n",
            "epoch 24, loss 106.6959228515625\n",
            "epoch 25, loss 105.91505432128906\n",
            "epoch 26, loss 105.1399154663086\n",
            "epoch 27, loss 104.37044525146484\n",
            "epoch 28, loss 103.60660552978516\n",
            "epoch 29, loss 102.84837341308594\n",
            "epoch 30, loss 102.09569549560547\n",
            "epoch 31, loss 101.34852600097656\n",
            "epoch 32, loss 100.60682678222656\n",
            "epoch 33, loss 99.87057495117188\n",
            "epoch 34, loss 99.13970184326172\n",
            "epoch 35, loss 98.41419982910156\n",
            "epoch 36, loss 97.6939926147461\n",
            "epoch 37, loss 96.97905731201172\n",
            "epoch 38, loss 96.2693862915039\n",
            "epoch 39, loss 95.56489562988281\n",
            "epoch 40, loss 94.86556243896484\n",
            "epoch 41, loss 94.1713638305664\n",
            "epoch 42, loss 93.48223114013672\n",
            "epoch 43, loss 92.79817199707031\n",
            "epoch 44, loss 92.11911010742188\n",
            "epoch 45, loss 91.44503021240234\n",
            "epoch 46, loss 90.77588653564453\n",
            "epoch 47, loss 90.11163330078125\n",
            "epoch 48, loss 89.45225524902344\n",
            "epoch 49, loss 88.79769897460938\n",
            "epoch 50, loss 88.14794921875\n",
            "epoch 51, loss 87.5029525756836\n",
            "epoch 52, loss 86.86268615722656\n",
            "epoch 53, loss 86.22709655761719\n",
            "epoch 54, loss 85.59617614746094\n",
            "epoch 55, loss 84.96987915039062\n",
            "epoch 56, loss 84.34815979003906\n",
            "epoch 57, loss 83.73100280761719\n",
            "epoch 58, loss 83.11836242675781\n",
            "epoch 59, loss 82.51020812988281\n",
            "epoch 60, loss 81.9065170288086\n",
            "epoch 61, loss 81.30724334716797\n",
            "epoch 62, loss 80.71235656738281\n",
            "epoch 63, loss 80.121826171875\n",
            "epoch 64, loss 79.5356216430664\n",
            "epoch 65, loss 78.95372009277344\n",
            "epoch 66, loss 78.3760757446289\n",
            "epoch 67, loss 77.80266571044922\n",
            "epoch 68, loss 77.23345947265625\n",
            "epoch 69, loss 76.66841125488281\n",
            "epoch 70, loss 76.10750579833984\n",
            "epoch 71, loss 75.55071258544922\n",
            "epoch 72, loss 74.99800109863281\n",
            "epoch 73, loss 74.44933319091797\n",
            "epoch 74, loss 73.9046859741211\n",
            "epoch 75, loss 73.36402893066406\n",
            "epoch 76, loss 72.82733154296875\n",
            "epoch 77, loss 72.29457092285156\n",
            "epoch 78, loss 71.76570129394531\n",
            "epoch 79, loss 71.24070739746094\n",
            "epoch 80, loss 70.71956634521484\n",
            "epoch 81, loss 70.2022476196289\n",
            "epoch 82, loss 69.68870544433594\n",
            "epoch 83, loss 69.1789321899414\n",
            "epoch 84, loss 68.67289733886719\n",
            "epoch 85, loss 68.1705551147461\n",
            "epoch 86, loss 67.67190551757812\n",
            "epoch 87, loss 67.1769027709961\n",
            "epoch 88, loss 66.68553161621094\n",
            "epoch 89, loss 66.19775390625\n",
            "epoch 90, loss 65.71354675292969\n",
            "epoch 91, loss 65.23290252685547\n",
            "epoch 92, loss 64.75576782226562\n",
            "epoch 93, loss 64.2821273803711\n",
            "epoch 94, loss 63.81196212768555\n",
            "epoch 95, loss 63.3452262878418\n",
            "epoch 96, loss 62.881935119628906\n",
            "epoch 97, loss 62.422019958496094\n",
            "epoch 98, loss 61.965476989746094\n",
            "epoch 99, loss 61.51227951049805\n",
            "epoch 100, loss 61.06239700317383\n",
            "epoch 101, loss 60.615806579589844\n",
            "epoch 102, loss 60.1724967956543\n",
            "epoch 103, loss 59.7324333190918\n",
            "epoch 104, loss 59.29560089111328\n",
            "epoch 105, loss 58.86195755004883\n",
            "epoch 106, loss 58.431495666503906\n",
            "epoch 107, loss 58.004188537597656\n",
            "epoch 108, loss 57.58000564575195\n",
            "epoch 109, loss 57.1589241027832\n",
            "epoch 110, loss 56.740936279296875\n",
            "epoch 111, loss 56.32600784301758\n",
            "epoch 112, loss 55.91412353515625\n",
            "epoch 113, loss 55.50525665283203\n",
            "epoch 114, loss 55.0993766784668\n",
            "epoch 115, loss 54.69647216796875\n",
            "epoch 116, loss 54.2965202331543\n",
            "epoch 117, loss 53.899505615234375\n",
            "epoch 118, loss 53.505393981933594\n",
            "epoch 119, loss 53.114166259765625\n",
            "epoch 120, loss 52.725807189941406\n",
            "epoch 121, loss 52.340293884277344\n",
            "epoch 122, loss 51.95759963989258\n",
            "epoch 123, loss 51.57771682739258\n",
            "epoch 124, loss 51.20061111450195\n",
            "epoch 125, loss 50.82626724243164\n",
            "epoch 126, loss 50.45466995239258\n",
            "epoch 127, loss 50.085792541503906\n",
            "epoch 128, loss 49.7196159362793\n",
            "epoch 129, loss 49.35612106323242\n",
            "epoch 130, loss 48.99529266357422\n",
            "epoch 131, loss 48.63710403442383\n",
            "epoch 132, loss 48.28153991699219\n",
            "epoch 133, loss 47.928585052490234\n",
            "epoch 134, loss 47.57821273803711\n",
            "epoch 135, loss 47.23040771484375\n",
            "epoch 136, loss 46.8851432800293\n",
            "epoch 137, loss 46.542415618896484\n",
            "epoch 138, loss 46.20220184326172\n",
            "epoch 139, loss 45.86447525024414\n",
            "epoch 140, loss 45.529212951660156\n",
            "epoch 141, loss 45.19641876220703\n",
            "epoch 142, loss 44.86606216430664\n",
            "epoch 143, loss 44.53812026977539\n",
            "epoch 144, loss 44.212589263916016\n",
            "epoch 145, loss 43.88943099975586\n",
            "epoch 146, loss 43.56864547729492\n",
            "epoch 147, loss 43.250213623046875\n",
            "epoch 148, loss 42.93410873413086\n",
            "epoch 149, loss 42.62032699584961\n",
            "epoch 150, loss 42.308837890625\n",
            "epoch 151, loss 41.9996337890625\n",
            "epoch 152, loss 41.69268798828125\n",
            "epoch 153, loss 41.38800048828125\n",
            "epoch 154, loss 41.08553695678711\n",
            "epoch 155, loss 40.7852897644043\n",
            "epoch 156, loss 40.48724365234375\n",
            "epoch 157, loss 40.191383361816406\n",
            "epoch 158, loss 39.8976936340332\n",
            "epoch 159, loss 39.606143951416016\n",
            "epoch 160, loss 39.31673812866211\n",
            "epoch 161, loss 39.02944564819336\n",
            "epoch 162, loss 38.7442626953125\n",
            "epoch 163, loss 38.4611701965332\n",
            "epoch 164, loss 38.180145263671875\n",
            "epoch 165, loss 37.90119171142578\n",
            "epoch 166, loss 37.624271392822266\n",
            "epoch 167, loss 37.3493766784668\n",
            "epoch 168, loss 37.076499938964844\n",
            "epoch 169, loss 36.805625915527344\n",
            "epoch 170, loss 36.5367317199707\n",
            "epoch 171, loss 36.26980209350586\n",
            "epoch 172, loss 36.00483322143555\n",
            "epoch 173, loss 35.74180603027344\n",
            "epoch 174, loss 35.480709075927734\n",
            "epoch 175, loss 35.221519470214844\n",
            "epoch 176, loss 34.96422576904297\n",
            "epoch 177, loss 34.708824157714844\n",
            "epoch 178, loss 34.45529556274414\n",
            "epoch 179, loss 34.20361328125\n",
            "epoch 180, loss 33.95378494262695\n",
            "epoch 181, loss 33.70578384399414\n",
            "epoch 182, loss 33.45960235595703\n",
            "epoch 183, loss 33.21521759033203\n",
            "epoch 184, loss 32.97262191772461\n",
            "epoch 185, loss 32.73180389404297\n",
            "epoch 186, loss 32.49275588989258\n",
            "epoch 187, loss 32.25545883178711\n",
            "epoch 188, loss 32.019901275634766\n",
            "epoch 189, loss 31.786060333251953\n",
            "epoch 190, loss 31.553936004638672\n",
            "epoch 191, loss 31.32351303100586\n",
            "epoch 192, loss 31.09478187561035\n",
            "epoch 193, loss 30.867717742919922\n",
            "epoch 194, loss 30.6423282623291\n",
            "epoch 195, loss 30.4185791015625\n",
            "epoch 196, loss 30.19647789001465\n",
            "epoch 197, loss 29.975994110107422\n",
            "epoch 198, loss 29.757131576538086\n",
            "epoch 199, loss 29.539867401123047\n",
            "epoch 200, loss 29.324207305908203\n",
            "epoch 201, loss 29.1101131439209\n",
            "epoch 202, loss 28.897594451904297\n",
            "epoch 203, loss 28.686634063720703\n",
            "epoch 204, loss 28.47721290588379\n",
            "epoch 205, loss 28.26932716369629\n",
            "epoch 206, loss 28.062963485717773\n",
            "epoch 207, loss 27.858112335205078\n",
            "epoch 208, loss 27.65476417541504\n",
            "epoch 209, loss 27.452905654907227\n",
            "epoch 210, loss 27.25252342224121\n",
            "epoch 211, loss 27.053613662719727\n",
            "epoch 212, loss 26.856155395507812\n",
            "epoch 213, loss 26.6601505279541\n",
            "epoch 214, loss 26.465572357177734\n",
            "epoch 215, loss 26.272424697875977\n",
            "epoch 216, loss 26.0806884765625\n",
            "epoch 217, loss 25.890365600585938\n",
            "epoch 218, loss 25.701427459716797\n",
            "epoch 219, loss 25.513877868652344\n",
            "epoch 220, loss 25.32769775390625\n",
            "epoch 221, loss 25.14288330078125\n",
            "epoch 222, loss 24.959428787231445\n",
            "epoch 223, loss 24.777311325073242\n",
            "epoch 224, loss 24.59653091430664\n",
            "epoch 225, loss 24.417072296142578\n",
            "epoch 226, loss 24.238927841186523\n",
            "epoch 227, loss 24.062091827392578\n",
            "epoch 228, loss 23.886545181274414\n",
            "epoch 229, loss 23.71229362487793\n",
            "epoch 230, loss 23.53931427001953\n",
            "epoch 231, loss 23.367603302001953\n",
            "epoch 232, loss 23.1971492767334\n",
            "epoch 233, loss 23.027942657470703\n",
            "epoch 234, loss 22.859975814819336\n",
            "epoch 235, loss 22.6932430267334\n",
            "epoch 236, loss 22.527725219726562\n",
            "epoch 237, loss 22.363422393798828\n",
            "epoch 238, loss 22.2003231048584\n",
            "epoch 239, loss 22.038415908813477\n",
            "epoch 240, loss 21.877696990966797\n",
            "epoch 241, loss 21.71816062927246\n",
            "epoch 242, loss 21.559789657592773\n",
            "epoch 243, loss 21.402578353881836\n",
            "epoch 244, loss 21.246517181396484\n",
            "epoch 245, loss 21.091602325439453\n",
            "epoch 246, loss 20.937820434570312\n",
            "epoch 247, loss 20.785165786743164\n",
            "epoch 248, loss 20.633628845214844\n",
            "epoch 249, loss 20.483200073242188\n",
            "epoch 250, loss 20.333873748779297\n",
            "epoch 251, loss 20.18564224243164\n",
            "epoch 252, loss 20.038496017456055\n",
            "epoch 253, loss 19.89242935180664\n",
            "epoch 254, loss 19.7474308013916\n",
            "epoch 255, loss 19.603496551513672\n",
            "epoch 256, loss 19.460613250732422\n",
            "epoch 257, loss 19.318777084350586\n",
            "epoch 258, loss 19.177982330322266\n",
            "epoch 259, loss 19.038219451904297\n",
            "epoch 260, loss 18.899478912353516\n",
            "epoch 261, loss 18.76175308227539\n",
            "epoch 262, loss 18.62504005432129\n",
            "epoch 263, loss 18.48932647705078\n",
            "epoch 264, loss 18.3546085357666\n",
            "epoch 265, loss 18.220874786376953\n",
            "epoch 266, loss 18.08812141418457\n",
            "epoch 267, loss 17.956340789794922\n",
            "epoch 268, loss 17.825525283813477\n",
            "epoch 269, loss 17.695667266845703\n",
            "epoch 270, loss 17.56675910949707\n",
            "epoch 271, loss 17.438800811767578\n",
            "epoch 272, loss 17.311777114868164\n",
            "epoch 273, loss 17.185680389404297\n",
            "epoch 274, loss 17.060510635375977\n",
            "epoch 275, loss 16.93625831604004\n",
            "epoch 276, loss 16.81291389465332\n",
            "epoch 277, loss 16.690471649169922\n",
            "epoch 278, loss 16.568933486938477\n",
            "epoch 279, loss 16.44828224182129\n",
            "epoch 280, loss 16.328516006469727\n",
            "epoch 281, loss 16.209625244140625\n",
            "epoch 282, loss 16.09160614013672\n",
            "epoch 283, loss 15.974453926086426\n",
            "epoch 284, loss 15.85815715789795\n",
            "epoch 285, loss 15.742711067199707\n",
            "epoch 286, loss 15.62811279296875\n",
            "epoch 287, loss 15.514348030090332\n",
            "epoch 288, loss 15.401422500610352\n",
            "epoch 289, loss 15.289324760437012\n",
            "epoch 290, loss 15.178049087524414\n",
            "epoch 291, loss 15.067584037780762\n",
            "epoch 292, loss 14.957929611206055\n",
            "epoch 293, loss 14.849075317382812\n",
            "epoch 294, loss 14.7410249710083\n",
            "epoch 295, loss 14.633761405944824\n",
            "epoch 296, loss 14.527288436889648\n",
            "epoch 297, loss 14.421590805053711\n",
            "epoch 298, loss 14.316668510437012\n",
            "epoch 299, loss 14.21251392364502\n",
            "epoch 300, loss 14.109123229980469\n",
            "epoch 301, loss 14.006487846374512\n",
            "epoch 302, loss 13.9046049118042\n",
            "epoch 303, loss 13.803472518920898\n",
            "epoch 304, loss 13.70307731628418\n",
            "epoch 305, loss 13.603418350219727\n",
            "epoch 306, loss 13.504488945007324\n",
            "epoch 307, loss 13.406286239624023\n",
            "epoch 308, loss 13.308801651000977\n",
            "epoch 309, loss 13.212030410766602\n",
            "epoch 310, loss 13.115972518920898\n",
            "epoch 311, loss 13.020614624023438\n",
            "epoch 312, loss 12.925954818725586\n",
            "epoch 313, loss 12.831988334655762\n",
            "epoch 314, loss 12.738710403442383\n",
            "epoch 315, loss 12.646116256713867\n",
            "epoch 316, loss 12.554198265075684\n",
            "epoch 317, loss 12.462957382202148\n",
            "epoch 318, loss 12.372385025024414\n",
            "epoch 319, loss 12.282475471496582\n",
            "epoch 320, loss 12.193220138549805\n",
            "epoch 321, loss 12.104620933532715\n",
            "epoch 322, loss 12.016670227050781\n",
            "epoch 323, loss 11.92936897277832\n",
            "epoch 324, loss 11.842703819274902\n",
            "epoch 325, loss 11.75667667388916\n",
            "epoch 326, loss 11.671274185180664\n",
            "epoch 327, loss 11.58650016784668\n",
            "epoch 328, loss 11.502345085144043\n",
            "epoch 329, loss 11.41880989074707\n",
            "epoch 330, loss 11.335886001586914\n",
            "epoch 331, loss 11.253569602966309\n",
            "epoch 332, loss 11.171853065490723\n",
            "epoch 333, loss 11.090736389160156\n",
            "epoch 334, loss 11.010211944580078\n",
            "epoch 335, loss 10.930281639099121\n",
            "epoch 336, loss 10.850934982299805\n",
            "epoch 337, loss 10.77216911315918\n",
            "epoch 338, loss 10.69398021697998\n",
            "epoch 339, loss 10.616365432739258\n",
            "epoch 340, loss 10.539315223693848\n",
            "epoch 341, loss 10.462835311889648\n",
            "epoch 342, loss 10.386909484863281\n",
            "epoch 343, loss 10.311541557312012\n",
            "epoch 344, loss 10.236727714538574\n",
            "epoch 345, loss 10.162460327148438\n",
            "epoch 346, loss 10.088740348815918\n",
            "epoch 347, loss 10.015556335449219\n",
            "epoch 348, loss 9.942913055419922\n",
            "epoch 349, loss 9.870800018310547\n",
            "epoch 350, loss 9.799214363098145\n",
            "epoch 351, loss 9.728155136108398\n",
            "epoch 352, loss 9.657612800598145\n",
            "epoch 353, loss 9.587591171264648\n",
            "epoch 354, loss 9.51807689666748\n",
            "epoch 355, loss 9.449075698852539\n",
            "epoch 356, loss 9.380578994750977\n",
            "epoch 357, loss 9.312586784362793\n",
            "epoch 358, loss 9.245088577270508\n",
            "epoch 359, loss 9.178088188171387\n",
            "epoch 360, loss 9.111577033996582\n",
            "epoch 361, loss 9.045553207397461\n",
            "epoch 362, loss 8.980012893676758\n",
            "epoch 363, loss 8.914952278137207\n",
            "epoch 364, loss 8.850366592407227\n",
            "epoch 365, loss 8.78625774383545\n",
            "epoch 366, loss 8.722615242004395\n",
            "epoch 367, loss 8.659439086914062\n",
            "epoch 368, loss 8.596725463867188\n",
            "epoch 369, loss 8.53447437286377\n",
            "epoch 370, loss 8.472677230834961\n",
            "epoch 371, loss 8.411333084106445\n",
            "epoch 372, loss 8.350439071655273\n",
            "epoch 373, loss 8.28999137878418\n",
            "epoch 374, loss 8.22998332977295\n",
            "epoch 375, loss 8.170417785644531\n",
            "epoch 376, loss 8.111288070678711\n",
            "epoch 377, loss 8.052589416503906\n",
            "epoch 378, loss 7.994322299957275\n",
            "epoch 379, loss 7.936481475830078\n",
            "epoch 380, loss 7.879066467285156\n",
            "epoch 381, loss 7.822072505950928\n",
            "epoch 382, loss 7.765492916107178\n",
            "epoch 383, loss 7.7093305587768555\n",
            "epoch 384, loss 7.653578281402588\n",
            "epoch 385, loss 7.598235130310059\n",
            "epoch 386, loss 7.543296813964844\n",
            "epoch 387, loss 7.488760471343994\n",
            "epoch 388, loss 7.434624671936035\n",
            "epoch 389, loss 7.380885124206543\n",
            "epoch 390, loss 7.327539920806885\n",
            "epoch 391, loss 7.274582862854004\n",
            "epoch 392, loss 7.22201681137085\n",
            "epoch 393, loss 7.169833183288574\n",
            "epoch 394, loss 7.118035316467285\n",
            "epoch 395, loss 7.066614627838135\n",
            "epoch 396, loss 7.015570163726807\n",
            "epoch 397, loss 6.964901924133301\n",
            "epoch 398, loss 6.914602756500244\n",
            "epoch 399, loss 6.8646721839904785\n",
            "epoch 400, loss 6.815106391906738\n",
            "epoch 401, loss 6.765905857086182\n",
            "epoch 402, loss 6.717062950134277\n",
            "epoch 403, loss 6.668580532073975\n",
            "epoch 404, loss 6.6204514503479\n",
            "epoch 405, loss 6.572674751281738\n",
            "epoch 406, loss 6.5252485275268555\n",
            "epoch 407, loss 6.478170871734619\n",
            "epoch 408, loss 6.431436061859131\n",
            "epoch 409, loss 6.385046482086182\n",
            "epoch 410, loss 6.338995456695557\n",
            "epoch 411, loss 6.293280601501465\n",
            "epoch 412, loss 6.2479023933410645\n",
            "epoch 413, loss 6.202855110168457\n",
            "epoch 414, loss 6.158137321472168\n",
            "epoch 415, loss 6.113749027252197\n",
            "epoch 416, loss 6.069685935974121\n",
            "epoch 417, loss 6.02594518661499\n",
            "epoch 418, loss 5.982524394989014\n",
            "epoch 419, loss 5.9394211769104\n",
            "epoch 420, loss 5.896636962890625\n",
            "epoch 421, loss 5.854163646697998\n",
            "epoch 422, loss 5.811999797821045\n",
            "epoch 423, loss 5.770147800445557\n",
            "epoch 424, loss 5.72860050201416\n",
            "epoch 425, loss 5.6873579025268555\n",
            "epoch 426, loss 5.646418571472168\n",
            "epoch 427, loss 5.605779647827148\n",
            "epoch 428, loss 5.565435886383057\n",
            "epoch 429, loss 5.525389194488525\n",
            "epoch 430, loss 5.485634803771973\n",
            "epoch 431, loss 5.446168422698975\n",
            "epoch 432, loss 5.4069952964782715\n",
            "epoch 433, loss 5.368107795715332\n",
            "epoch 434, loss 5.3295087814331055\n",
            "epoch 435, loss 5.291189670562744\n",
            "epoch 436, loss 5.2531514167785645\n",
            "epoch 437, loss 5.215392112731934\n",
            "epoch 438, loss 5.177908420562744\n",
            "epoch 439, loss 5.1407012939453125\n",
            "epoch 440, loss 5.103765964508057\n",
            "epoch 441, loss 5.067099571228027\n",
            "epoch 442, loss 5.030703544616699\n",
            "epoch 443, loss 4.994573593139648\n",
            "epoch 444, loss 4.958709239959717\n",
            "epoch 445, loss 4.9231061935424805\n",
            "epoch 446, loss 4.887765407562256\n",
            "epoch 447, loss 4.852681636810303\n",
            "epoch 448, loss 4.817855358123779\n",
            "epoch 449, loss 4.783285140991211\n",
            "epoch 450, loss 4.748966217041016\n",
            "epoch 451, loss 4.714898586273193\n",
            "epoch 452, loss 4.681082725524902\n",
            "epoch 453, loss 4.647511959075928\n",
            "epoch 454, loss 4.614190578460693\n",
            "epoch 455, loss 4.581111907958984\n",
            "epoch 456, loss 4.548277854919434\n",
            "epoch 457, loss 4.515679836273193\n",
            "epoch 458, loss 4.4833245277404785\n",
            "epoch 459, loss 4.451204776763916\n",
            "epoch 460, loss 4.419319152832031\n",
            "epoch 461, loss 4.387667655944824\n",
            "epoch 462, loss 4.3562469482421875\n",
            "epoch 463, loss 4.3250579833984375\n",
            "epoch 464, loss 4.29409646987915\n",
            "epoch 465, loss 4.263360500335693\n",
            "epoch 466, loss 4.232852458953857\n",
            "epoch 467, loss 4.202567100524902\n",
            "epoch 468, loss 4.1725029945373535\n",
            "epoch 469, loss 4.142658710479736\n",
            "epoch 470, loss 4.113035202026367\n",
            "epoch 471, loss 4.083627700805664\n",
            "epoch 472, loss 4.054434299468994\n",
            "epoch 473, loss 4.025455951690674\n",
            "epoch 474, loss 3.9966883659362793\n",
            "epoch 475, loss 3.968135356903076\n",
            "epoch 476, loss 3.939788818359375\n",
            "epoch 477, loss 3.911649703979492\n",
            "epoch 478, loss 3.883715867996216\n",
            "epoch 479, loss 3.8559889793395996\n",
            "epoch 480, loss 3.8284637928009033\n",
            "epoch 481, loss 3.801142930984497\n",
            "epoch 482, loss 3.774017333984375\n",
            "epoch 483, loss 3.747093915939331\n",
            "epoch 484, loss 3.720366954803467\n",
            "epoch 485, loss 3.693835496902466\n",
            "epoch 486, loss 3.667497158050537\n",
            "epoch 487, loss 3.641352415084839\n",
            "epoch 488, loss 3.615400791168213\n",
            "epoch 489, loss 3.589639186859131\n",
            "epoch 490, loss 3.564063310623169\n",
            "epoch 491, loss 3.538677930831909\n",
            "epoch 492, loss 3.5134761333465576\n",
            "epoch 493, loss 3.4884605407714844\n",
            "epoch 494, loss 3.4636282920837402\n",
            "epoch 495, loss 3.4389781951904297\n",
            "epoch 496, loss 3.414508104324341\n",
            "epoch 497, loss 3.390216827392578\n",
            "epoch 498, loss 3.366105556488037\n",
            "epoch 499, loss 3.3421683311462402\n",
            "epoch 500, loss 3.318406581878662\n",
            "epoch 501, loss 3.2948203086853027\n",
            "epoch 502, loss 3.271406650543213\n",
            "epoch 503, loss 3.248162031173706\n",
            "epoch 504, loss 3.2250900268554688\n",
            "epoch 505, loss 3.2021872997283936\n",
            "epoch 506, loss 3.1794512271881104\n",
            "epoch 507, loss 3.156881332397461\n",
            "epoch 508, loss 3.134477376937866\n",
            "epoch 509, loss 3.112238645553589\n",
            "epoch 510, loss 3.090162754058838\n",
            "epoch 511, loss 3.068249464035034\n",
            "epoch 512, loss 3.0464935302734375\n",
            "epoch 513, loss 3.024899482727051\n",
            "epoch 514, loss 3.003460645675659\n",
            "epoch 515, loss 2.982182502746582\n",
            "epoch 516, loss 2.9610559940338135\n",
            "epoch 517, loss 2.9400875568389893\n",
            "epoch 518, loss 2.919271469116211\n",
            "epoch 519, loss 2.898608684539795\n",
            "epoch 520, loss 2.8780975341796875\n",
            "epoch 521, loss 2.857736110687256\n",
            "epoch 522, loss 2.8375234603881836\n",
            "epoch 523, loss 2.817460536956787\n",
            "epoch 524, loss 2.7975423336029053\n",
            "epoch 525, loss 2.777771234512329\n",
            "epoch 526, loss 2.758145809173584\n",
            "epoch 527, loss 2.738663911819458\n",
            "epoch 528, loss 2.7193236351013184\n",
            "epoch 529, loss 2.700125217437744\n",
            "epoch 530, loss 2.681067943572998\n",
            "epoch 531, loss 2.662149667739868\n",
            "epoch 532, loss 2.6433703899383545\n",
            "epoch 533, loss 2.624727249145508\n",
            "epoch 534, loss 2.6062216758728027\n",
            "epoch 535, loss 2.5878500938415527\n",
            "epoch 536, loss 2.569615364074707\n",
            "epoch 537, loss 2.5515143871307373\n",
            "epoch 538, loss 2.533545970916748\n",
            "epoch 539, loss 2.515707492828369\n",
            "epoch 540, loss 2.4980006217956543\n",
            "epoch 541, loss 2.4804224967956543\n",
            "epoch 542, loss 2.4629740715026855\n",
            "epoch 543, loss 2.445652484893799\n",
            "epoch 544, loss 2.4284586906433105\n",
            "epoch 545, loss 2.4113924503326416\n",
            "epoch 546, loss 2.39444899559021\n",
            "epoch 547, loss 2.3776297569274902\n",
            "epoch 548, loss 2.360934019088745\n",
            "epoch 549, loss 2.3443603515625\n",
            "epoch 550, loss 2.327908992767334\n",
            "epoch 551, loss 2.311577320098877\n",
            "epoch 552, loss 2.2953670024871826\n",
            "epoch 553, loss 2.279273748397827\n",
            "epoch 554, loss 2.2632994651794434\n",
            "epoch 555, loss 2.247441053390503\n",
            "epoch 556, loss 2.231698513031006\n",
            "epoch 557, loss 2.2160723209381104\n",
            "epoch 558, loss 2.2005608081817627\n",
            "epoch 559, loss 2.1851613521575928\n",
            "epoch 560, loss 2.16987681388855\n",
            "epoch 561, loss 2.154703378677368\n",
            "epoch 562, loss 2.1396403312683105\n",
            "epoch 563, loss 2.1246883869171143\n",
            "epoch 564, loss 2.10984468460083\n",
            "epoch 565, loss 2.095111608505249\n",
            "epoch 566, loss 2.080487012863159\n",
            "epoch 567, loss 2.065967082977295\n",
            "epoch 568, loss 2.0515551567077637\n",
            "epoch 569, loss 2.0372490882873535\n",
            "epoch 570, loss 2.023047685623169\n",
            "epoch 571, loss 2.008948802947998\n",
            "epoch 572, loss 1.994955062866211\n",
            "epoch 573, loss 1.9810619354248047\n",
            "epoch 574, loss 1.9672718048095703\n",
            "epoch 575, loss 1.953582763671875\n",
            "epoch 576, loss 1.9399932622909546\n",
            "epoch 577, loss 1.9265044927597046\n",
            "epoch 578, loss 1.913114309310913\n",
            "epoch 579, loss 1.8998229503631592\n",
            "epoch 580, loss 1.886627197265625\n",
            "epoch 581, loss 1.8735278844833374\n",
            "epoch 582, loss 1.8605254888534546\n",
            "epoch 583, loss 1.8476178646087646\n",
            "epoch 584, loss 1.834804892539978\n",
            "epoch 585, loss 1.8220856189727783\n",
            "epoch 586, loss 1.8094594478607178\n",
            "epoch 587, loss 1.7969255447387695\n",
            "epoch 588, loss 1.7844845056533813\n",
            "epoch 589, loss 1.7721353769302368\n",
            "epoch 590, loss 1.759874939918518\n",
            "epoch 591, loss 1.747704267501831\n",
            "epoch 592, loss 1.7356250286102295\n",
            "epoch 593, loss 1.7236328125\n",
            "epoch 594, loss 1.7117283344268799\n",
            "epoch 595, loss 1.6999092102050781\n",
            "epoch 596, loss 1.68817937374115\n",
            "epoch 597, loss 1.676534652709961\n",
            "epoch 598, loss 1.664974570274353\n",
            "epoch 599, loss 1.6534990072250366\n",
            "Prediction(after training) 4 tensor(7.0208)\n"
          ],
          "name": "stdout"
        },
        {
          "output_type": "display_data",
          "data": {
            "image/png": "[encoded data removed]",
            "text/plain": [
              "<Figure size 576x432 with 1 Axes>"
            ]
          },
          "metadata": {
            "tags": []
          }
        }
      ]
    },
    {
      "cell_type": "code",
      "metadata": {
        "id": "dZVuF-Wu_Naw",
        "colab_type": "code",
        "colab": {}
      },
      "source": [
        ""
      ],
      "execution_count": 0,
      "outputs": []
    }
  ]
}